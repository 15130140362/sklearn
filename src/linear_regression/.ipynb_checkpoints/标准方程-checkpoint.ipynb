{
 "cells": [
  {
   "cell_type": "markdown",
   "metadata": {
    "collapsed": true
   },
   "source": [
    "# 标准方程\n",
    "## $ \\hat{\\theta} = (X^{T}.X)^{-1}.X^{T}.y $\n",
    "\n",
    "- $\\hat{\\theta}$：使成本函数最小的$\\theta$值（一个向量）\n",
    "- y：训练集的目标值向量\n",
    "\n",
    "# 成本函数\n",
    "\n",
    "$ MSE(\\theta) = {\\frac{\\sum_{i =1 }^{m} (\\theta^{T}.X^{i}-y^{i})^{2}}{m}} $\n"
   ]
  },
  {
   "cell_type": "code",
   "execution_count": null,
   "metadata": {},
   "outputs": [],
   "source": []
  }
 ],
 "metadata": {
  "kernelspec": {
   "display_name": "Python 3",
   "language": "python",
   "name": "python3"
  },
  "language_info": {
   "codemirror_mode": {
    "name": "ipython",
    "version": 3
   },
   "file_extension": ".py",
   "mimetype": "text/x-python",
   "name": "python",
   "nbconvert_exporter": "python",
   "pygments_lexer": "ipython3",
   "version": "3.6.6"
  }
 },
 "nbformat": 4,
 "nbformat_minor": 1
}
