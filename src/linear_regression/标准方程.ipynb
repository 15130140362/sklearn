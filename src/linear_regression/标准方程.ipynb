{
 "cells": [
  {
   "cell_type": "markdown",
   "metadata": {
    "collapsed": true
   },
   "source": [
    "## $$ LifeSatisfaction（生活满意度） = \\theta_{0} + \\theta_{1}  \\times GDPPerCapita（人均GDP）$$"
   ]
  },
  {
   "cell_type": "markdown",
   "metadata": {},
   "source": [
    "这个模型就是输入特征GDPPerCapita的线性函数，也就是自变量X，$\\theta_{0}$ 和 $\\theta_{1} $是模型的参数。\n",
    "\n",
    "\n",
    "\n",
    "<html>\n",
    "<img src=\"https://upload-images.jianshu.io/upload_images/13614258-0d216c7929323702.png?imageMogr2/auto-orient/strip%7CimageView2/2/w/1240\" width=\"400\",height\"300\"\n",
    "/>\n",
    "\n",
    "</html>\n",
    "\n",
    "总结：线性模型就是对输入特征加权求和，再加上一个称为偏置项的常数（也称为截距项）。"
   ]
  },
  {
   "cell_type": "markdown",
   "metadata": {},
   "source": [
    "## 线性回归预测模型\n",
    "## $ \\hat{y} = \\theta_{0} + \\theta_{1}x_{1} + \\theta_{2}x_{2} + ... + \\theta_{n}x_{n} $"
   ]
  },
  {
   "cell_type": "markdown",
   "metadata": {},
   "source": [
    "- $\\hat{y}$（y-hat），预测值\n",
    "- n是特征的数量\n",
    "- $x_{i}$是第i个特征值\n",
    "- $\\theta_{i}$是第i个模型参数"
   ]
  },
  {
   "cell_type": "markdown",
   "metadata": {},
   "source": [
    "## 线性回归预测模型（向量化）\n",
    "\n",
    "## $ \\hat{y} = h_{\\theta}(X) = \\theta^{T}.X $"
   ]
  },
  {
   "cell_type": "markdown",
   "metadata": {},
   "source": [
    "- $\\theta$是模型的参数向量。  $\\begin{bmatrix}\n",
    "\\theta_{0} \n",
    "\\\\ \\theta_{1} \n",
    "\\\\ \\theta_{2} \n",
    "\\\\  ...\n",
    "\\\\ \\theta_{n} \n",
    "\\end{bmatrix}$\n",
    "\n",
    "- $\\theta^{T}$是\\theta的转置向量（行向量）。$ \\begin{bmatrix}\n",
    "\\theta_{0} & \\theta_{1}  & \\theta_{2}  & ... & \\theta_{n} \n",
    "\\end{bmatrix}$\n",
    "\n",
    "- X是实例的特征向量，$\\begin{bmatrix}\n",
    "x_{0} \n",
    "\\\\ x_{1} \n",
    "\\\\ x_{2} \n",
    "\\\\  ...\n",
    "\\\\ x_{n} \n",
    "\\end{bmatrix}$\n",
    "\n",
    "- $\\theta^{T}$.X是$\\theta^{T}$和X的点积，$x_{0}$永远为1。$ \\begin{bmatrix}\n",
    "\\theta_{0} & \\theta_{1}  & \\theta_{2}  & ... & \\theta_{n} \n",
    "\\end{bmatrix}$.$\\begin{bmatrix}\n",
    "x_{0} \n",
    "\\\\ x_{1} \n",
    "\\\\ x_{2} \n",
    "\\\\  ...\n",
    "\\\\ x_{n} \n",
    "\\end{bmatrix}$ = $\\theta_{0}.x_{0} +  \\theta_{1}.x_{1} + \\theta_{2}.x_{2} + ... + \\theta_{n}.x_{n} $ =  $\\theta_{0} +  \\theta_{1}.x_{1} + \\theta_{2}.x_{2} + ... + \\theta_{n}.x_{n} $ \n",
    "\n",
    "矩阵乘法：[n行m列] $\\times$ [m行n列] = [n行n列]   [1行n+1列] $\\times$ [n+1行1列] = 1行1列 = 单个值（预测值）\n",
    "- $h_{0}$是使用模型参数$\\theta$的假设函数。"
   ]
  },
  {
   "cell_type": "markdown",
   "metadata": {},
   "source": [
    "如何训练模型：首先需要知道如何衡量模型对训练数据的拟合程度是好是坏。最常见的性能指标是均方跟误差（RMSE）。\n",
    "\n",
    "## $$RMSE(X,h_{\\theta}) = \\sqrt{{\\frac{\\sum_{i =1 }^{m} (\\theta^{T}.X^{i}-y^{i})^{2}}{m}}}$$\n",
    "\n",
    "在训练模型时，需要找到让RMSE最小化的$\\theta$值。在实际应用中，将均方误差（MSE）最小化比最小化RMSE更为简单，二者效果是相同的。\n",
    "\n"
   ]
  },
  {
   "cell_type": "markdown",
   "metadata": {},
   "source": [
    "## $$MSE(X,h_{\\theta}) = {\\frac{\\sum_{i =1 }^{m} (\\theta^{T}.X^{i}-y^{i})^{2}}{m}}$$\n",
    "\n",
    "$$MSE(X,h_{\\theta}) 简化为 MSE(\\theta) $$"
   ]
  },
  {
   "cell_type": "code",
   "execution_count": null,
   "metadata": {},
   "outputs": [],
   "source": []
  }
 ],
 "metadata": {
  "kernelspec": {
   "display_name": "Python 3",
   "language": "python",
   "name": "python3"
  },
  "language_info": {
   "codemirror_mode": {
    "name": "ipython",
    "version": 3
   },
   "file_extension": ".py",
   "mimetype": "text/x-python",
   "name": "python",
   "nbconvert_exporter": "python",
   "pygments_lexer": "ipython3",
   "version": "3.6.6"
  }
 },
 "nbformat": 4,
 "nbformat_minor": 1
}
