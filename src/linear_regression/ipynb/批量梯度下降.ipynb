{
 "cells": [
  {
   "cell_type": "markdown",
   "metadata": {
    "collapsed": true
   },
   "source": [
    "## $$MSE(X,h_{\\theta}) = {\\frac{\\sum_{i =1 }^{m} (\\theta^{T}.X^{i}-y^{i})^{2}}{m}}$$\n",
    "\n",
    "$$MSE(X,h_{\\theta}) 简化为 MSE(\\theta) $$\n",
    "\n",
    "## $$成本函数的偏导数 = \\frac{\\partial }{\\partial \\theta _{_{j}}}  MSE(\\theta ) = \\frac{2}{m} \\sum_{i = 1}^{m} (\\theta ^{T}.x^{i} - y^{i})x_{j}^{i}$$\n",
    "\n",
    "## $$ 成本函数的梯度向量 = \\bigtriangledown _{\\theta} MSE(\\theta) = \\begin{bmatrix}\n",
    "\\frac{\\partial }{\\partial \\theta _{0}} MSE(\\theta)\n",
    "\\\\ \\frac{\\partial }{\\partial \\theta _{1}} MSE(\\theta)\n",
    "\\\\ \\vdots \n",
    "\\\\ \\frac{\\partial }{\\partial \\theta _{n}} MSE(\\theta)\n",
    "\\end{bmatrix} = \\frac{2}{m} X^{T}.(X.\\theta - y)\n",
    "$$\n",
    "\n",
    "##  $$  模型参数迭代公式   = \\theta^{(next step)} = \\theta - \\eta \\bigtriangledown _{\\theta} MSE(\\theta)$$ "
   ]
  },
  {
   "cell_type": "code",
   "execution_count": null,
   "metadata": {},
   "outputs": [],
   "source": []
  }
 ],
 "metadata": {
  "kernelspec": {
   "display_name": "Python 3",
   "language": "python",
   "name": "python3"
  },
  "language_info": {
   "codemirror_mode": {
    "name": "ipython",
    "version": 3
   },
   "file_extension": ".py",
   "mimetype": "text/x-python",
   "name": "python",
   "nbconvert_exporter": "python",
   "pygments_lexer": "ipython3",
   "version": "3.6.6"
  }
 },
 "nbformat": 4,
 "nbformat_minor": 1
}
