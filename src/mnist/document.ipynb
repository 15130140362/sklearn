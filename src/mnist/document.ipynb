{
 "cells": [
  {
   "cell_type": "markdown",
   "metadata": {
    "collapsed": true
   },
   "source": [
    "# 精度\n",
    "\n",
    "$$ 精度 = \\frac{TP}{TP + FP} $$\n",
    "\n",
    "- TP：【真正类】的数量\n",
    "- FP：【假正类】的数量\n",
    "\n",
    "精度通常与另一个指标一起用，这个指标就是召回率（recall），也称为灵敏度（sensitivity）或真正类率（TPR），表示分类器正确检测到的正类实例的比率。\n",
    "\n",
    "$$ 召回率 = \\frac{TP}{TP + FN} $$\n",
    "\n",
    "- FN：【假负类】的数量\n",
    "\n",
    "![image.png](https://upload-images.jianshu.io/upload_images/13614258-6b7a63c7af031be3.png?imageMogr2/auto-orient/strip%7CimageView2/2/w/1240)\n",
    "\n",
    "## - 精度：分母应该是实际标注为True，识别也正确的（真正类）与实际标注为False，但识别错误的（假正类），也就是本来是False，但被误认为是True。\n",
    "\n",
    "## - 召回率：所有标签中实际标记为True的标签有多少识别的结果仍然为True。分母是所有实际标注为True的实例\n",
    "\n",
    "\n",
    "\n",
    "# 将精度和召回率组合成单一的指标：F1分数\n",
    "\n",
    "# $$ F_{1}  = \\frac{2}{\\frac{1}{精度} + \\frac{1}{召回率}} = 2 \\times \\frac{精度 \\times 召回率}{精度 + 召回率} = \\frac{TP}{TP + \\frac{FN + FP}{2}}$$"
   ]
  },
  {
   "cell_type": "markdown",
   "metadata": {},
   "source": [
    "\n"
   ]
  },
  {
   "cell_type": "code",
   "execution_count": null,
   "metadata": {},
   "outputs": [],
   "source": []
  }
 ],
 "metadata": {
  "kernelspec": {
   "display_name": "Python 3",
   "language": "python",
   "name": "python3"
  },
  "language_info": {
   "codemirror_mode": {
    "name": "ipython",
    "version": 3
   },
   "file_extension": ".py",
   "mimetype": "text/x-python",
   "name": "python",
   "nbconvert_exporter": "python",
   "pygments_lexer": "ipython3",
   "version": "3.6.6"
  }
 },
 "nbformat": 4,
 "nbformat_minor": 1
}
