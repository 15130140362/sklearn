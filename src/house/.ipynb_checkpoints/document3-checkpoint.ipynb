{
 "cells": [
  {
   "cell_type": "markdown",
   "metadata": {
    "collapsed": true
   },
   "source": [
    "StandardScaler转换器的计算公式\n",
    "\n",
    "# $$ z = (x - u) / s $$\n",
    "\n",
    "- x：当前实例（samples）的值\n",
    "- u：列【实例（samples）】的平均数或0。 StandardScaler(with_mean=True)\n",
    "- s：列【实例（samples）】的标准差，或1  StandardScaler(with_std=False）\n",
    "\n"
   ]
  },
  {
   "cell_type": "markdown",
   "metadata": {},
   "source": [
    "标准差（标准偏差、均方差，英语：Standard Deviation，缩写SD）\n",
    "\n",
    "是一组数据平均值分散程度的一种度量。一个较大的标准差，代表大部分数值和其平均值之间差异较大；一个较小的标准差，代表这些数值较接近平均值。\n",
    "\n",
    "# $$\\sqrt{ \\frac{1}{N} \\sum_{i = 1}^{N}(x_{i} - r)^{2}}$$\n",
    "\n"
   ]
  },
  {
   "cell_type": "markdown",
   "metadata": {},
   "source": [
    "## 衡量性能的指标\n",
    "\n",
    "### 1. 均方根误差（RMSE，root-mean-square error）\n",
    "\n",
    "\n",
    "# $$RMSE(X,h) = \\sqrt{\\frac{\\sum_{i =1 }^{m} (h(x^{i}) - y^{i})^{2}}{m}}$$\n",
    "\n",
    "\n",
    "- m：是在测量RMSE时使用的数据集中实例的数量，也就是记录的数量，如5000。那么这时m = 5000。\n",
    "- $x^{i}$：是数据集中第i个实例的所有特征值的向量（标签特征除外）\n",
    "- $y^{i}$是标签，也就是我们期待该实例的输出值。\n",
    "\n",
    "例子：区域1\n",
    "\n",
    "    经度：$-119.21^{\\circ}$   纬度：$-33.22^{。}$    居民数量：1533，  平均收入：41432美元，房屋均价：174432美元\n",
    "    \n",
    "# $$ x^{i} = \\begin{bmatrix}\n",
    "-119.21\\\\-33.22\n",
    "\\\\ 1533\n",
    "\\\\  41432\n",
    "\\end{bmatrix}\n",
    " $$\n",
    "\n",
    "# $$ y^{i} = 174432$$\n",
    "\n",
    "- X：数据集中所有实例的所有特征值的矩阵。每个实例为一行.也就是说，第i行等于$x^{i}$的转置矩阵，记作$(x^{i})^{T}$。\n",
    "\n",
    "\n",
    "# $$ X = \\begin{bmatrix}\n",
    "(x^{1})^T\\\\(x^{2})^T\n",
    "\\\\ \\vdots \n",
    "\\\\ (x^{4999})^T\n",
    "\\\\ (x^{5000})^T\n",
    "\\end{bmatrix} = \\bigl(\\begin{smallmatrix}\n",
    " -119.21& -33.22& 1533 & 41432\\\\ \n",
    "\\vdots  & \\vdots  &  \\vdots & \\vdots \n",
    "\\end{smallmatrix}\\bigr)$$\n",
    "\n",
    "- h：系统的预测函数，当给定系统一个实例的特征向量$x^{i}$，h函数会输出一个预测值$\\hat{y}^{1} = h(x^{1}$)（$\\hat{y}$读 y-hat）。\n",
    "- RMSE（X,h）是使用假设h在实例上测试的成本函数。\n",
    "\n",
    "如果RMSE的值等于10000，就意味着系统的预测值\n"
   ]
  },
  {
   "cell_type": "markdown",
   "metadata": {},
   "source": [
    "### 2. 平均绝对误差（MAE，Mean absolute error）\n",
    "\n",
    "\n",
    "尽管RMSE是回归任务的首选性能衡量指标,但在某些情况下,其他函数可能会更\n",
    "适合。例如,当有很多离群区域时,可以考虑使用平均绝对误差(也称为平均绝对偏\n",
    "差）\n",
    "\n",
    "# $$ MAE(X,h) = \\frac{\\sum_{i =1 }^{m}| h(x^{i}) - y^{i}|}{m}$$\n",
    "\n",
    "上述两种衡量性能指标的算法在sklearn中都有相应的函数来说实现。"
   ]
  },
  {
   "cell_type": "code",
   "execution_count": null,
   "metadata": {},
   "outputs": [],
   "source": []
  }
 ],
 "metadata": {
  "kernelspec": {
   "display_name": "Python 3",
   "language": "python",
   "name": "python3"
  },
  "language_info": {
   "codemirror_mode": {
    "name": "ipython",
    "version": 3
   },
   "file_extension": ".py",
   "mimetype": "text/x-python",
   "name": "python",
   "nbconvert_exporter": "python",
   "pygments_lexer": "ipython3",
   "version": "3.6.6"
  }
 },
 "nbformat": 4,
 "nbformat_minor": 1
}
